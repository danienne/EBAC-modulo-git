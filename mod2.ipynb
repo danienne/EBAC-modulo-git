{
  "nbformat": 4,
  "nbformat_minor": 0,
  "metadata": {
    "colab": {
      "provenance": []
    },
    "kernelspec": {
      "name": "python3",
      "display_name": "Python 3"
    },
    "language_info": {
      "name": "python"
    }
  },
  "cells": [
    {
      "cell_type": "code",
      "execution_count": null,
      "metadata": {
        "id": "kifELVikodph"
      },
      "outputs": [],
      "source": []
    },
    {
      "cell_type": "markdown",
      "source": [
        "Este arquivo esta vazio, apenas para teste!"
      ],
      "metadata": {
        "id": "8afzi8tBoeOT"
      }
    }
  ]
}